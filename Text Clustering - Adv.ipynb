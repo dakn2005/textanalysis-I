{
 "cells": [
  {
   "cell_type": "markdown",
   "metadata": {},
   "source": [
    "# Text Clustering samples - Adv\n",
    "\n",
    "Excellent samples obtained from this [link](https://stackoverflow.com/questions/43541187/how-can-i-plot-a-kmeans-text-clustering-result-with-matplotlib),\n",
    "\n",
    "Thanks stackoverflow 👍🏽\n",
    "\n",
    "Further reading:\n",
    "- [Plotly (Scatter, Bar, Pie Chart) and Word Cloud](https://www.kaggle.com/mehmetkasap/plotly-scatter-bar-pie-chart-and-word-cloud)\n",
    "- [Exploring and Analyzing Network Data with Python](https://programminghistorian.org/en/lessons/exploring-and-analyzing-network-data-with-python)\n",
    "- [Document Clustering with Python](http://brandonrose.org/clustering?ref=dzone)\n",
    "- [Clustering in Python/v3](https://plotly.com/python/v3/ipython-notebooks/baltimore-vital-signs/)\n",
    "- [Analyze Co-occurrence and Networks of Words Using Twitter Data and Tweepy in Python](https://www.earthdatascience.org/courses/use-data-open-source-python/intro-to-apis/calculate-tweet-word-bigrams/)\n",
    "- [Getting started with graph analysis in Python with pandas and networkx](https://towardsdatascience.com/getting-started-with-graph-analysis-in-python-with-pandas-and-networkx-5e2d2f82f18e)"
   ]
  },
  {
   "cell_type": "markdown",
   "metadata": {},
   "source": [
    "### Example I, plotting only centroids"
   ]
  },
  {
   "cell_type": "code",
   "execution_count": 21,
   "metadata": {},
   "outputs": [
    {
     "name": "stdout",
     "output_type": "stream",
     "text": [
      "[[ 2742.8013    132.52274]\n",
      " [-3359.2295  -4287.793  ]\n",
      " [  307.9944   5835.097  ]\n",
      " [-3959.3457   1438.7327 ]\n",
      " [-3959.3457   1438.7327 ]\n",
      " [ 2742.8013    132.52274]\n",
      " [ 1859.9021  -5860.845  ]\n",
      " [ 2742.8013    132.52274]]\n"
     ]
    },
    {
     "data": {
      "image/png": "[encoded data removed]",
      "text/plain": [
       "<Figure size 432x288 with 1 Axes>"
      ]
     },
     "metadata": {
      "needs_background": "light"
     },
     "output_type": "display_data"
    }
   ],
   "source": [
    "import matplotlib.pyplot as plt\n",
    "from sklearn.cluster import KMeans\n",
    "from sklearn.feature_extraction.text import TfidfVectorizer\n",
    "from sklearn.manifold import TSNE\n",
    "\n",
    "train = [\"is this good?\", \"this is bad\", \"some other text here\", \"i am hero\", \"blue jeans\", \"red carpet\", \"red dog\",\n",
    "     \"blue sweater\", \"red hat\", \"kitty blue\"]\n",
    "\n",
    "vect = TfidfVectorizer()  \n",
    "X = vect.fit_transform(train)\n",
    "random_state = 1\n",
    "clf = KMeans(random_state = random_state)\n",
    "data = clf.fit(X)\n",
    "centroids = clf.cluster_centers_\n",
    "\n",
    "tsne_init = 'pca'  # could also be 'random'\n",
    "tsne_perplexity = 20.0\n",
    "tsne_early_exaggeration = 4.0\n",
    "tsne_learning_rate = 1000\n",
    "model = TSNE(n_components=2, random_state=random_state, init=tsne_init, perplexity=tsne_perplexity,\n",
    "         early_exaggeration=tsne_early_exaggeration, learning_rate=tsne_learning_rate)\n",
    "\n",
    "transformed_centroids = model.fit_transform(centroids)\n",
    "print (transformed_centroids)\n",
    "plt.scatter(transformed_centroids[:, 0], transformed_centroids[:, 1], marker='x')\n",
    "plt.show()"
   ]
  },
  {
   "cell_type": "markdown",
   "metadata": {},
   "source": [
    "### Example II, Centroids with other vectors"
   ]
  },
  {
   "cell_type": "code",
   "execution_count": 2,
   "metadata": {},
   "outputs": [
    {
     "name": "stdout",
     "output_type": "stream",
     "text": [
      "[[ 2.6816638  -1.3932229 ]\n",
      " [ 2.7802625  -2.4289935 ]\n",
      " [ 2.5505207  -0.7690551 ]\n",
      " [ 2.1877017  -2.0482984 ]\n",
      " [ 4.79737    -1.112677  ]\n",
      " [ 1.6610066  -0.7269162 ]\n",
      " [ 5.157918   -0.68261147]\n",
      " [ 2.676313   -1.7253106 ]\n",
      " [ 4.79737    -1.112677  ]\n",
      " [ 1.8437513  -1.6463609 ]\n",
      " [ 1.1865712  -1.4392483 ]\n",
      " [ 4.79737    -1.112677  ]\n",
      " [ 1.4678024  -2.1162484 ]\n",
      " [ 4.79737    -1.112677  ]\n",
      " [ 1.4349307  -2.1727154 ]\n",
      " [ 4.250208   -0.8234308 ]\n",
      " [ 2.1721032  -0.5203802 ]\n",
      " [ 4.46487    -1.8113968 ]\n",
      " [ 2.2308843  -2.6344655 ]\n",
      " [ 5.181582   -1.6081668 ]\n",
      " [ 1.535641   -0.9233495 ]\n",
      " [ 4.46487    -1.8113968 ]\n",
      " [ 1.1793472  -1.3886335 ]\n",
      " [ 5.181582   -1.6081668 ]\n",
      " [ 2.2330856  -1.5969881 ]\n",
      " [ 4.250208   -0.8234308 ]\n",
      " [ 1.9912467  -0.98241466]\n",
      " [ 4.6271553  -0.49813458]\n",
      " [ 2.0007014  -1.4980685 ]\n",
      " [ 4.445151   -1.2773988 ]]\n"
     ]
    },
    {
     "data": {
      "image/png": "[encoded data removed]",
      "text/plain": [
       "<Figure size 432x288 with 1 Axes>"
      ]
     },
     "metadata": {
      "needs_background": "light"
     },
     "output_type": "display_data"
    }
   ],
   "source": [
    "import matplotlib.pyplot as plt\n",
    "from numpy import concatenate\n",
    "from sklearn.cluster import KMeans\n",
    "from sklearn.feature_extraction.text import TfidfVectorizer\n",
    "from sklearn.manifold import TSNE\n",
    "\n",
    "train = [\n",
    "    'In 1917 a German Navy flight crashed at/near Off western Denmark with 18 aboard',\n",
    "    # 'There were 18 passenger/crew fatalities',\n",
    "    'In 1942 a Deutsche Lufthansa flight crashed at an unknown location with 4 aboard',\n",
    "    # 'There were 4 passenger/crew fatalities',\n",
    "    'In 1946 Trans Luxury Airlines flight 878 crashed at/near Moline, Illinois with 25 aboard',\n",
    "    # 'There were 2 passenger/crew fatalities',\n",
    "    'In 1947 a Slick Airways flight crashed at/near Hanksville, Utah with 3 aboard',\n",
    "    'There were 3 passenger/crew fatalities',\n",
    "    'In 1949 a Royal Canadian Air Force flight crashed at/near Near Bigstone Lake, Manitoba with 21 aboard',\n",
    "    'There were 21 passenger/crew fatalities',\n",
    "    'In 1952 a Airwork flight crashed at/near Off Trapani, Italy with 57 aboard',\n",
    "    'There were 7 passenger/crew fatalities',\n",
    "    'In 1963 a Aeroflot flight crashed at/near Near Leningrad, Russia with 52 aboard',\n",
    "    'In 1966 a Alaska Coastal Airlines flight crashed at/near Near Juneau, Alaska with 9 aboard',\n",
    "    'There were 9 passenger/crew fatalities',\n",
    "    'In 1986 a Air Taxi flight crashed at/near Frenchglen, Oregon with 6 aboard',\n",
    "    'There were 3 passenger/crew fatalities',\n",
    "    'In 1989 a Air Taxi flight crashed at/near Gold Beach, Oregon with 3 aboard',\n",
    "    'There were 18 passenger/crew fatalities',\n",
    "    'In 1990 a Republic of China Air Force flight crashed at/near Yunlin, Taiwan with 18 aboard',\n",
    "    'There were 10 passenger/crew fatalities',\n",
    "    'In 1992 a Servicios Aereos Santa Ana flight crashed at/near Colorado, Bolivia with 10 aboard',\n",
    "    'There were 44 passenger/crew fatalities',\n",
    "    'In 1994 Royal Air Maroc flight 630 crashed at/near Near Agadir, Morocco with 44 aboard',\n",
    "    'There were 10 passenger/crew fatalities',\n",
    "    'In 1995 Atlantic Southeast Airlines flight 529 crashed at/near Near Carrollton, GA with 29 aboard',\n",
    "    'There were 44 passenger/crew fatalities',\n",
    "    'In 1998 a Lumbini Airways flight crashed at/near Near Ghorepani, Nepal with 18 aboard',\n",
    "    'There were 18 passenger/crew fatalities',\n",
    "    'In 2004 a Venezuelan Air Force flight crashed at/near Near Maracay, Venezuela with 25 aboard',\n",
    "    'There were 25 passenger/crew fatalities',\n",
    "]\n",
    "\n",
    "vectorizer = TfidfVectorizer()\n",
    "X = vectorizer.fit_transform(train)\n",
    "n_clusters = 2\n",
    "random_state = 1\n",
    "clf = KMeans(n_clusters=n_clusters, random_state=random_state)\n",
    "data = clf.fit(X)\n",
    "centroids = clf.cluster_centers_\n",
    "# we want to transform the rows and the centroids\n",
    "everything = concatenate((X.todense(), centroids))\n",
    "\n",
    "\n",
    "tsne_init = 'pca'  # could also be 'random'\n",
    "tsne_perplexity = 20.0\n",
    "tsne_early_exaggeration = 4.0\n",
    "tsne_learning_rate = 1\n",
    "\n",
    "model = TSNE(n_components=2, random_state=random_state, init=tsne_init,\n",
    "    perplexity=tsne_perplexity,\n",
    "    early_exaggeration=tsne_early_exaggeration, learning_rate=tsne_learning_rate)\n",
    "\n",
    "transformed_everything = model.fit_transform(everything)\n",
    "print(transformed_everything)\n",
    "plt.scatter(transformed_everything[:-n_clusters, 0], transformed_everything[:-n_clusters, 1], marker='x')\n",
    "plt.scatter(transformed_everything[-n_clusters:, 0], transformed_everything[-n_clusters:, 1], marker='o')\n",
    "\n",
    "plt.show()"
   ]
  },
  {
   "cell_type": "code",
   "execution_count": 10,
   "metadata": {},
   "outputs": [
    {
     "data": {
      "text/plain": [
       "KMeans(algorithm='auto', copy_x=True, init='k-means++', max_iter=300,\n",
       "       n_clusters=2, n_init=10, n_jobs=None, precompute_distances='auto',\n",
       "       random_state=1, tol=0.0001, verbose=0)"
      ]
     },
     "execution_count": 10,
     "metadata": {},
     "output_type": "execute_result"
    }
   ],
   "source": [
    "data"
   ]
  },
  {
   "cell_type": "code",
   "execution_count": null,
   "metadata": {},
   "outputs": [],
   "source": []
  }
 ],
 "metadata": {
  "kernelspec": {
   "display_name": "Python 3",
   "language": "python",
   "name": "python3"
  },
  "language_info": {
   "codemirror_mode": {
    "name": "ipython",
    "version": 3
   },
   "file_extension": ".py",
   "mimetype": "text/x-python",
   "name": "python",
   "nbconvert_exporter": "python",
   "pygments_lexer": "ipython3",
   "version": "3.7.4"
  }
 },
 "nbformat": 4,
 "nbformat_minor": 2
}
